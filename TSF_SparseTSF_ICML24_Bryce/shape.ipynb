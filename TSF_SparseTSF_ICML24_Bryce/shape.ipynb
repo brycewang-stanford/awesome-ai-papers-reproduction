{
 "cells": [
  {
   "cell_type": "code",
   "execution_count": 1,
   "id": "268a0b8c",
   "metadata": {},
   "outputs": [
    {
     "name": "stdout",
     "output_type": "stream",
     "text": [
      "ETTh1.csv: (17420, 8)\n",
      "ETTh2.csv: (17420, 8)\n",
      "electricity.csv: (26304, 322)\n",
      "traffic.csv: (17544, 863)\n",
      "weather.csv: (52696, 22)\n",
      "solar_AL.txt: (52559, 137)\n",
      "ETTm1.csv: (69680, 8)\n",
      "ETTm2.csv: (69680, 8)\n"
     ]
    }
   ],
   "source": [
    "import pandas as pd\n",
    "import os\n",
    "\n",
    "# 设置数据文件夹路径\n",
    "data_folder = 'dataset'\n",
    "\n",
    "# 获取所有 CSV 和 TXT 文件名\n",
    "files = [f for f in os.listdir(data_folder) if f.endswith('.csv') or f.endswith('.txt')]\n",
    "\n",
    "# 读取每个文件并打印其 shape\n",
    "for file in files:\n",
    "    file_path = os.path.join(data_folder, file)\n",
    "    try:\n",
    "        df = pd.read_csv(file_path)\n",
    "    except UnicodeDecodeError:\n",
    "        df = pd.read_csv(file_path, encoding='latin1')  # 如果默认编码失败则尝试 latin1\n",
    "    print(f\"{file}: {df.shape}\")"
   ]
  },
  {
   "cell_type": "code",
   "execution_count": null,
   "id": "260f2820",
   "metadata": {},
   "outputs": [],
   "source": []
  }
 ],
 "metadata": {
  "kernelspec": {
   "display_name": "venv",
   "language": "python",
   "name": "python3"
  },
  "language_info": {
   "codemirror_mode": {
    "name": "ipython",
    "version": 3
   },
   "file_extension": ".py",
   "mimetype": "text/x-python",
   "name": "python",
   "nbconvert_exporter": "python",
   "pygments_lexer": "ipython3",
   "version": "3.13.5"
  }
 },
 "nbformat": 4,
 "nbformat_minor": 5
}
